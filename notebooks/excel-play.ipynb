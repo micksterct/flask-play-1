{
 "cells": [
  {
   "cell_type": "code",
   "execution_count": 1,
   "metadata": {},
   "outputs": [],
   "source": [
    "# Play with excel libraries  , pandas & plotly charts\n",
    "# python -m pip install xlrd\n",
    "# python -m pip install xlwt\n",
    "# python -m pip install XlsxWriter\n",
    "# python -m pip install OpenPyXL\n",
    "# python -m pip install plotly\n",
    "\n"
   ]
  },
  {
   "cell_type": "code",
   "execution_count": 2,
   "metadata": {},
   "outputs": [
    {
     "name": "stdout",
     "output_type": "stream",
     "text": [
      "back\n"
     ]
    }
   ],
   "source": [
    "print(\"back\")"
   ]
  },
  {
   "cell_type": "code",
   "execution_count": 11,
   "metadata": {},
   "outputs": [],
   "source": [
    "#see  https://www.dataquest.io/blog/excel-and-pandas/\n",
    "#matplotlib - data visualization\n",
    "#NumPy - numerical data functionality\n",
    "#OpenPyXL - read/write Excel 2010 xlsx/xlsm files\n",
    "#pandas - data import, clean-up, exploration, and analysis\n",
    "#xlrd - read Excel data\n",
    "#xlwt - write to Excel\n",
    "#XlsxWriter - write to Excel (xlsx) files\n",
    "\n",
    "# https://plot.ly/python/getting-started/"
   ]
  },
  {
   "cell_type": "code",
   "execution_count": 5,
   "metadata": {},
   "outputs": [],
   "source": [
    "#data for this notebook found locally at /devel/py35-work/data/scenario-inputs2.xlsx"
   ]
  },
  {
   "cell_type": "code",
   "execution_count": 6,
   "metadata": {},
   "outputs": [
    {
     "data": {
      "text/html": [
       "<script>requirejs.config({paths: { 'plotly': ['https://cdn.plot.ly/plotly-latest.min']},});if(!window.Plotly) {{require(['plotly'],function(plotly) {window.Plotly=plotly;});}}</script>"
      ],
      "text/vnd.plotly.v1+html": [
       "<script>requirejs.config({paths: { 'plotly': ['https://cdn.plot.ly/plotly-latest.min']},});if(!window.Plotly) {{require(['plotly'],function(plotly) {window.Plotly=plotly;});}}</script>"
      ]
     },
     "metadata": {},
     "output_type": "display_data"
    },
    {
     "name": "stdout",
     "output_type": "stream",
     "text": [
      "loaded Libraries 3\n",
      "Plotly Version: 3.0.0\n",
      "Pandas Version: 0.23.1\n",
      "Numpy Version: 1.14.3\n",
      "Loading Project Catalog using Excel\n",
      "\n",
      "loaded Project Catalog\n",
      "\n",
      "\n",
      "High five! You successfully sent some data to your account on plotly. View your plot in your browser at https://plot.ly/~mbisignani/0 or inside your plot.ly account where it is named 'gantt-simple-gantt-chart'\n",
      "\n",
      "** See Chart At https://plot.ly/~mbisignani/0\n",
      "\n"
     ]
    }
   ],
   "source": [
    "import pandas as pd\n",
    "import numpy as np  \n",
    "import plotly.plotly as py \n",
    "from plotly import __version__\n",
    "import plotly.figure_factory as ff\n",
    "\n",
    "from plotly.offline import download_plotlyjs, init_notebook_mode, plot, iplot\n",
    "\n",
    "init_notebook_mode(connected=True)\n",
    "\n",
    "# connect to notebook  \n",
    "\n",
    "\n",
    "print(\"loaded Libraries 3\")\n",
    "\n",
    "print(\"Plotly Version: \" + __version__)\n",
    "\n",
    "\n",
    "print(\"Pandas Version: \" + pd.__version__)\n",
    "print(\"Numpy Version: \" + np.__version__)\n",
    "\n",
    "print(\"Loading Project Catalog using Excel\\n\")\n",
    "#  path to file . \n",
    "excel_file = \"/devel/py35-work/data/scenario-inputs2.xlsx\"\n",
    "movies_sheet1 = pd.read_excel(excel_file, sheet_name=\"ProjectCatalog\", index_col=0)\n",
    "movies_sheet1.head()\n",
    "print(\"loaded Project Catalog\\n\\n\")\n",
    "\n",
    "\n",
    "\n",
    "\n",
    "df = [dict(Task=\"Job A1\", Start='2009-01-01', Finish='2009-02-28'),\n",
    "      dict(Task=\"Job B1\", Start='2009-03-05', Finish='2009-04-15'),\n",
    "      dict(Task=\"Job C1\", Start='2009-02-20', Finish='2009-05-30')]\n",
    "\n",
    "fig = ff.create_gantt(df)\n",
    "\n",
    "#auto_open=True)\n",
    "\n",
    "py.iplot(fig, filename='gantt-simple-gantt-chart', world_readable=True)\n",
    "\n",
    "\n",
    "print(\"\\n** See Chart At https://plot.ly/~mbisignani/0\\n\" )\n",
    "\n",
    "\n",
    "\n"
   ]
  },
  {
   "cell_type": "code",
   "execution_count": 13,
   "metadata": {},
   "outputs": [
    {
     "name": "stdout",
     "output_type": "stream",
     "text": [
      "hello again from Greenwich library 3\n"
     ]
    }
   ],
   "source": [
    "print(\"hello again from Greenwich library 3\")"
   ]
  },
  {
   "cell_type": "code",
   "execution_count": 4,
   "metadata": {},
   "outputs": [
    {
     "data": {
      "text/plain": [
       "'3.0.0'"
      ]
     },
     "execution_count": 4,
     "metadata": {},
     "output_type": "execute_result"
    }
   ],
   "source": [
    "import plotly\n",
    "plotly.__version__"
   ]
  },
  {
   "cell_type": "code",
   "execution_count": 9,
   "metadata": {},
   "outputs": [
    {
     "data": {
      "text/html": [
       "<script>requirejs.config({paths: { 'plotly': ['https://cdn.plot.ly/plotly-latest.min']},});if(!window.Plotly) {{require(['plotly'],function(plotly) {window.Plotly=plotly;});}}</script>"
      ],
      "text/vnd.plotly.v1+html": [
       "<script>requirejs.config({paths: { 'plotly': ['https://cdn.plot.ly/plotly-latest.min']},});if(!window.Plotly) {{require(['plotly'],function(plotly) {window.Plotly=plotly;});}}</script>"
      ]
     },
     "metadata": {},
     "output_type": "display_data"
    },
    {
     "name": "stdout",
     "output_type": "stream",
     "text": [
      "3.0.0\n"
     ]
    },
    {
     "data": {
      "text/html": [
       "<script>requirejs.config({paths: { 'plotly': ['https://cdn.plot.ly/plotly-latest.min']},});if(!window.Plotly) {{require(['plotly'],function(plotly) {window.Plotly=plotly;});}}</script>"
      ],
      "text/vnd.plotly.v1+html": [
       "<script>requirejs.config({paths: { 'plotly': ['https://cdn.plot.ly/plotly-latest.min']},});if(!window.Plotly) {{require(['plotly'],function(plotly) {window.Plotly=plotly;});}}</script>"
      ]
     },
     "metadata": {},
     "output_type": "display_data"
    },
    {
     "data": {
      "application/vnd.plotly.v1+json": {
       "data": [
        {
         "type": "scatter",
         "uid": "d5558480-9e6a-11e8-b162-5c969d9742ff",
         "x": [
          1,
          2,
          3
         ],
         "y": [
          3,
          1,
          6
         ]
        }
       ],
       "layout": {}
      },
      "text/html": [
       "<div id=\"bc10e175-96da-476a-b575-208ea2b88815\" style=\"height: 525px; width: 100%;\" class=\"plotly-graph-div\"></div><script type=\"text/javascript\">require([\"plotly\"], function(Plotly) { window.PLOTLYENV=window.PLOTLYENV || {};window.PLOTLYENV.BASE_URL=\"https://plot.ly\";Plotly.newPlot(\"bc10e175-96da-476a-b575-208ea2b88815\", [{\"x\": [1, 2, 3], \"y\": [3, 1, 6], \"type\": \"scatter\", \"uid\": \"d58e95fe-9e6a-11e8-8b86-5c969d9742ff\"}], {}, {\"showLink\": true, \"linkText\": \"Export to plot.ly\"})});</script>"
      ],
      "text/vnd.plotly.v1+html": [
       "<div id=\"bc10e175-96da-476a-b575-208ea2b88815\" style=\"height: 525px; width: 100%;\" class=\"plotly-graph-div\"></div><script type=\"text/javascript\">require([\"plotly\"], function(Plotly) { window.PLOTLYENV=window.PLOTLYENV || {};window.PLOTLYENV.BASE_URL=\"https://plot.ly\";Plotly.newPlot(\"bc10e175-96da-476a-b575-208ea2b88815\", [{\"x\": [1, 2, 3], \"y\": [3, 1, 6], \"type\": \"scatter\", \"uid\": \"d58e95fe-9e6a-11e8-8b86-5c969d9742ff\"}], {}, {\"showLink\": true, \"linkText\": \"Export to plot.ly\"})});</script>"
      ]
     },
     "metadata": {},
     "output_type": "display_data"
    }
   ],
   "source": [
    "from plotly import __version__\n",
    "import plotly.figure_factory as ff\n",
    "from plotly.offline import download_plotlyjs, init_notebook_mode, plot, iplot\n",
    "\n",
    "init_notebook_mode(connected=True)\n",
    "print(__version__) \n",
    "\n",
    "import plotly.graph_objs as go\n",
    "\n",
    "#plot([go.Scatter(x=[1, 2, 3], y=[3, 1, 6])])\n",
    "\n",
    "# displays  in  notebook -  WORKED  \n",
    "init_notebook_mode(connected=True)\n",
    "\n",
    "iplot([{\"x\": [1, 2, 3], \"y\": [3, 1, 6]}])"
   ]
  },
  {
   "cell_type": "code",
   "execution_count": 8,
   "metadata": {},
   "outputs": [
    {
     "data": {
      "text/html": [
       "<script>requirejs.config({paths: { 'plotly': ['https://cdn.plot.ly/plotly-latest.min']},});if(!window.Plotly) {{require(['plotly'],function(plotly) {window.Plotly=plotly;});}}</script>"
      ],
      "text/vnd.plotly.v1+html": [
       "<script>requirejs.config({paths: { 'plotly': ['https://cdn.plot.ly/plotly-latest.min']},});if(!window.Plotly) {{require(['plotly'],function(plotly) {window.Plotly=plotly;});}}</script>"
      ]
     },
     "metadata": {},
     "output_type": "display_data"
    },
    {
     "data": {
      "application/vnd.plotly.v1+json": {
       "data": [
        {
         "type": "scatter",
         "uid": "1a9c1c3a-a296-11e8-873c-5c969d9742ff",
         "x": [
          1,
          2,
          3
         ],
         "y": [
          3,
          1,
          6
         ]
        }
       ],
       "layout": {}
      },
      "text/html": [
       "<div id=\"cd3b4c99-4762-476f-8695-98c7a8c4af14\" style=\"height: 525px; width: 100%;\" class=\"plotly-graph-div\"></div><script type=\"text/javascript\">require([\"plotly\"], function(Plotly) { window.PLOTLYENV=window.PLOTLYENV || {};window.PLOTLYENV.BASE_URL=\"https://plot.ly\";Plotly.newPlot(\"cd3b4c99-4762-476f-8695-98c7a8c4af14\", [{\"x\": [1, 2, 3], \"y\": [3, 1, 6], \"type\": \"scatter\", \"uid\": \"1aaa3e70-a296-11e8-ab91-5c969d9742ff\"}], {}, {\"showLink\": true, \"linkText\": \"Export to plot.ly\"})});</script>"
      ],
      "text/vnd.plotly.v1+html": [
       "<div id=\"cd3b4c99-4762-476f-8695-98c7a8c4af14\" style=\"height: 525px; width: 100%;\" class=\"plotly-graph-div\"></div><script type=\"text/javascript\">require([\"plotly\"], function(Plotly) { window.PLOTLYENV=window.PLOTLYENV || {};window.PLOTLYENV.BASE_URL=\"https://plot.ly\";Plotly.newPlot(\"cd3b4c99-4762-476f-8695-98c7a8c4af14\", [{\"x\": [1, 2, 3], \"y\": [3, 1, 6], \"type\": \"scatter\", \"uid\": \"1aaa3e70-a296-11e8-ab91-5c969d9742ff\"}], {}, {\"showLink\": true, \"linkText\": \"Export to plot.ly\"})});</script>"
      ]
     },
     "metadata": {},
     "output_type": "display_data"
    },
    {
     "name": "stdout",
     "output_type": "stream",
     "text": [
      "Loaded a few libraries ...\n",
      "python  version 3.6.5\n",
      "IPython version is (6, 4, 0, '') -> okay\n",
      "Plotly  version: 3.0.0\n",
      "Pandas  version: 0.23.1\n",
      "Numpy   version: 1.14.3\n"
     ]
    },
    {
     "data": {
      "application/vnd.plotly.v1+json": {
       "data": [
        {
         "marker": {
          "color": "white"
         },
         "name": "",
         "type": "scatter",
         "uid": "1acbb442-a296-11e8-9999-5c969d9742ff",
         "x": [
          "2018-01-01",
          "2018-03-11"
         ],
         "y": [
          0,
          0
         ]
        },
        {
         "marker": {
          "color": "white"
         },
         "name": "",
         "type": "scatter",
         "uid": "1acbb80c-a296-11e8-9164-5c969d9742ff",
         "x": [
          "2018-06-01",
          "2018-06-30"
         ],
         "y": [
          1,
          1
         ]
        },
        {
         "marker": {
          "color": "white"
         },
         "name": "",
         "type": "scatter",
         "uid": "1acbbb18-a296-11e8-abaf-5c969d9742ff",
         "x": [
          "2018-06-15",
          "2018-07-15"
         ],
         "y": [
          2,
          2
         ]
        },
        {
         "marker": {
          "color": "white"
         },
         "name": "",
         "type": "scatter",
         "uid": "1acbbe10-a296-11e8-bbcf-5c969d9742ff",
         "x": [
          "2018-09-01",
          "2018-10-15"
         ],
         "y": [
          3,
          3
         ]
        },
        {
         "marker": {
          "color": "white"
         },
         "name": "",
         "type": "scatter",
         "uid": "1acbc0fe-a296-11e8-8ef0-5c969d9742ff",
         "x": [
          "2018-07-15",
          "2018-08-15"
         ],
         "y": [
          4,
          4
         ]
        },
        {
         "hoverinfo": "none",
         "marker": {
          "color": "rgb(0, 0, 0)",
          "size": 1
         },
         "name": "Apps",
         "showlegend": true,
         "type": "scatter",
         "uid": "1acbc3ec-a296-11e8-a96f-5c969d9742ff",
         "x": [
          "2018-07-15",
          "2018-07-15"
         ],
         "y": [
          0,
          0
         ]
        },
        {
         "hoverinfo": "none",
         "marker": {
          "color": "rgb(255, 230, 41)",
          "size": 1
         },
         "name": "Operations",
         "showlegend": true,
         "type": "scatter",
         "uid": "1acbc6da-a296-11e8-8db2-5c969d9742ff",
         "x": [
          "2018-07-15",
          "2018-07-15"
         ],
         "y": [
          1,
          1
         ]
        },
        {
         "hoverinfo": "none",
         "marker": {
          "color": "rgb(220, 0, 0)",
          "size": 1
         },
         "name": "PreReqs",
         "showlegend": true,
         "type": "scatter",
         "uid": "1acbc9b4-a296-11e8-8747-5c969d9742ff",
         "x": [
          "2018-07-15",
          "2018-07-15"
         ],
         "y": [
          2,
          2
         ]
        },
        {
         "hoverinfo": "none",
         "marker": {
          "color": "rgb(170, 14, 200)",
          "size": 1
         },
         "name": "SharedSvcs",
         "showlegend": true,
         "type": "scatter",
         "uid": "1acbcc98-a296-11e8-9629-5c969d9742ff",
         "x": [
          "2018-07-15",
          "2018-07-15"
         ],
         "y": [
          3,
          3
         ]
        }
       ],
       "layout": {
        "height": 600,
        "hovermode": "closest",
        "shapes": [
         {
          "fillcolor": "rgb(220, 0, 0)",
          "line": {
           "width": 0
          },
          "opacity": 1,
          "type": "rect",
          "x0": "2018-01-01",
          "x1": "2018-03-11",
          "xref": "x",
          "y0": -0.2,
          "y1": 0.2,
          "yref": "y"
         },
         {
          "fillcolor": "rgb(170, 14, 200)",
          "line": {
           "width": 0
          },
          "opacity": 1,
          "type": "rect",
          "x0": "2018-06-01",
          "x1": "2018-06-30",
          "xref": "x",
          "y0": 0.8,
          "y1": 1.2,
          "yref": "y"
         },
         {
          "fillcolor": "rgb(170, 14, 200)",
          "line": {
           "width": 0
          },
          "opacity": 1,
          "type": "rect",
          "x0": "2018-06-15",
          "x1": "2018-07-15",
          "xref": "x",
          "y0": 1.8,
          "y1": 2.2,
          "yref": "y"
         },
         {
          "fillcolor": "rgb(0, 0, 0)",
          "line": {
           "width": 0
          },
          "opacity": 1,
          "type": "rect",
          "x0": "2018-09-01",
          "x1": "2018-10-15",
          "xref": "x",
          "y0": 2.8,
          "y1": 3.2,
          "yref": "y"
         },
         {
          "fillcolor": "rgb(255, 230, 41)",
          "line": {
           "width": 0
          },
          "opacity": 1,
          "type": "rect",
          "x0": "2018-07-15",
          "x1": "2018-08-15",
          "xref": "x",
          "y0": 3.8,
          "y1": 4.2,
          "yref": "y"
         }
        ],
        "showlegend": true,
        "title": "Sample Gantt Chart",
        "width": 900,
        "xaxis": {
         "rangeselector": {
          "buttons": [
           {
            "count": 7,
            "label": "1w",
            "step": "day",
            "stepmode": "backward"
           },
           {
            "count": 1,
            "label": "1m",
            "step": "month",
            "stepmode": "backward"
           },
           {
            "count": 6,
            "label": "6m",
            "step": "month",
            "stepmode": "backward"
           },
           {
            "count": 1,
            "label": "YTD",
            "step": "year",
            "stepmode": "todate"
           },
           {
            "count": 1,
            "label": "1y",
            "step": "year",
            "stepmode": "backward"
           },
           {
            "step": "all"
           }
          ]
         },
         "showgrid": false,
         "type": "date",
         "zeroline": false
        },
        "yaxis": {
         "autorange": false,
         "range": [
          -1,
          6
         ],
         "showgrid": false,
         "ticktext": [
          "Proj A",
          "Proj B1",
          "Proj B2",
          "Proj C",
          "Proj C"
         ],
         "tickvals": [
          0,
          1,
          2,
          3,
          4
         ],
         "zeroline": false
        }
       }
      },
      "text/html": [
       "<div id=\"c476e29a-b6fc-4ede-b0c9-d5e5d49bf30d\" style=\"height: 600px; width: 900px;\" class=\"plotly-graph-div\"></div><script type=\"text/javascript\">require([\"plotly\"], function(Plotly) { window.PLOTLYENV=window.PLOTLYENV || {};window.PLOTLYENV.BASE_URL=\"https://plot.ly\";Plotly.newPlot(\"c476e29a-b6fc-4ede-b0c9-d5e5d49bf30d\", [{\"marker\": {\"color\": \"white\"}, \"name\": \"\", \"x\": [\"2018-01-01\", \"2018-03-11\"], \"y\": [0, 0], \"type\": \"scatter\", \"uid\": \"1aed97ba-a296-11e8-818c-5c969d9742ff\"}, {\"marker\": {\"color\": \"white\"}, \"name\": \"\", \"x\": [\"2018-06-01\", \"2018-06-30\"], \"y\": [1, 1], \"type\": \"scatter\", \"uid\": \"1aed9b8c-a296-11e8-beec-5c969d9742ff\"}, {\"marker\": {\"color\": \"white\"}, \"name\": \"\", \"x\": [\"2018-06-15\", \"2018-07-15\"], \"y\": [2, 2], \"type\": \"scatter\", \"uid\": \"1aed9ea4-a296-11e8-845e-5c969d9742ff\"}, {\"marker\": {\"color\": \"white\"}, \"name\": \"\", \"x\": [\"2018-09-01\", \"2018-10-15\"], \"y\": [3, 3], \"type\": \"scatter\", \"uid\": \"1aeda1cc-a296-11e8-ab95-5c969d9742ff\"}, {\"marker\": {\"color\": \"white\"}, \"name\": \"\", \"x\": [\"2018-07-15\", \"2018-08-15\"], \"y\": [4, 4], \"type\": \"scatter\", \"uid\": \"1aeda4ba-a296-11e8-b3fe-5c969d9742ff\"}, {\"hoverinfo\": \"none\", \"marker\": {\"color\": \"rgb(0, 0, 0)\", \"size\": 1}, \"name\": \"Apps\", \"showlegend\": true, \"x\": [\"2018-07-15\", \"2018-07-15\"], \"y\": [0, 0], \"type\": \"scatter\", \"uid\": \"1aeda7a8-a296-11e8-8a40-5c969d9742ff\"}, {\"hoverinfo\": \"none\", \"marker\": {\"color\": \"rgb(255, 230, 41)\", \"size\": 1}, \"name\": \"Operations\", \"showlegend\": true, \"x\": [\"2018-07-15\", \"2018-07-15\"], \"y\": [1, 1], \"type\": \"scatter\", \"uid\": \"1aedaa8c-a296-11e8-b559-5c969d9742ff\"}, {\"hoverinfo\": \"none\", \"marker\": {\"color\": \"rgb(220, 0, 0)\", \"size\": 1}, \"name\": \"PreReqs\", \"showlegend\": true, \"x\": [\"2018-07-15\", \"2018-07-15\"], \"y\": [2, 2], \"type\": \"scatter\", \"uid\": \"1aedad74-a296-11e8-9b98-5c969d9742ff\"}, {\"hoverinfo\": \"none\", \"marker\": {\"color\": \"rgb(170, 14, 200)\", \"size\": 1}, \"name\": \"SharedSvcs\", \"showlegend\": true, \"x\": [\"2018-07-15\", \"2018-07-15\"], \"y\": [3, 3], \"type\": \"scatter\", \"uid\": \"1aedb04c-a296-11e8-88ac-5c969d9742ff\"}], {\"height\": 600, \"hovermode\": \"closest\", \"shapes\": [{\"fillcolor\": \"rgb(220, 0, 0)\", \"line\": {\"width\": 0}, \"opacity\": 1, \"type\": \"rect\", \"x0\": \"2018-01-01\", \"x1\": \"2018-03-11\", \"xref\": \"x\", \"y0\": -0.2, \"y1\": 0.2, \"yref\": \"y\"}, {\"fillcolor\": \"rgb(170, 14, 200)\", \"line\": {\"width\": 0}, \"opacity\": 1, \"type\": \"rect\", \"x0\": \"2018-06-01\", \"x1\": \"2018-06-30\", \"xref\": \"x\", \"y0\": 0.8, \"y1\": 1.2, \"yref\": \"y\"}, {\"fillcolor\": \"rgb(170, 14, 200)\", \"line\": {\"width\": 0}, \"opacity\": 1, \"type\": \"rect\", \"x0\": \"2018-06-15\", \"x1\": \"2018-07-15\", \"xref\": \"x\", \"y0\": 1.8, \"y1\": 2.2, \"yref\": \"y\"}, {\"fillcolor\": \"rgb(0, 0, 0)\", \"line\": {\"width\": 0}, \"opacity\": 1, \"type\": \"rect\", \"x0\": \"2018-09-01\", \"x1\": \"2018-10-15\", \"xref\": \"x\", \"y0\": 2.8, \"y1\": 3.2, \"yref\": \"y\"}, {\"fillcolor\": \"rgb(255, 230, 41)\", \"line\": {\"width\": 0}, \"opacity\": 1, \"type\": \"rect\", \"x0\": \"2018-07-15\", \"x1\": \"2018-08-15\", \"xref\": \"x\", \"y0\": 3.8, \"y1\": 4.2, \"yref\": \"y\"}], \"showlegend\": true, \"title\": \"Sample Gantt Chart\", \"width\": 900, \"xaxis\": {\"rangeselector\": {\"buttons\": [{\"count\": 7, \"label\": \"1w\", \"step\": \"day\", \"stepmode\": \"backward\"}, {\"count\": 1, \"label\": \"1m\", \"step\": \"month\", \"stepmode\": \"backward\"}, {\"count\": 6, \"label\": \"6m\", \"step\": \"month\", \"stepmode\": \"backward\"}, {\"count\": 1, \"label\": \"YTD\", \"step\": \"year\", \"stepmode\": \"todate\"}, {\"count\": 1, \"label\": \"1y\", \"step\": \"year\", \"stepmode\": \"backward\"}, {\"step\": \"all\"}]}, \"showgrid\": false, \"type\": \"date\", \"zeroline\": false}, \"yaxis\": {\"autorange\": false, \"range\": [-1, 6], \"showgrid\": false, \"ticktext\": [\"Proj A\", \"Proj B1\", \"Proj B2\", \"Proj C\", \"Proj C\"], \"tickvals\": [0, 1, 2, 3, 4], \"zeroline\": false}}, {\"showLink\": true, \"linkText\": \"Export to plot.ly\"})});</script>"
      ],
      "text/vnd.plotly.v1+html": [
       "<div id=\"c476e29a-b6fc-4ede-b0c9-d5e5d49bf30d\" style=\"height: 600px; width: 900px;\" class=\"plotly-graph-div\"></div><script type=\"text/javascript\">require([\"plotly\"], function(Plotly) { window.PLOTLYENV=window.PLOTLYENV || {};window.PLOTLYENV.BASE_URL=\"https://plot.ly\";Plotly.newPlot(\"c476e29a-b6fc-4ede-b0c9-d5e5d49bf30d\", [{\"marker\": {\"color\": \"white\"}, \"name\": \"\", \"x\": [\"2018-01-01\", \"2018-03-11\"], \"y\": [0, 0], \"type\": \"scatter\", \"uid\": \"1aed97ba-a296-11e8-818c-5c969d9742ff\"}, {\"marker\": {\"color\": \"white\"}, \"name\": \"\", \"x\": [\"2018-06-01\", \"2018-06-30\"], \"y\": [1, 1], \"type\": \"scatter\", \"uid\": \"1aed9b8c-a296-11e8-beec-5c969d9742ff\"}, {\"marker\": {\"color\": \"white\"}, \"name\": \"\", \"x\": [\"2018-06-15\", \"2018-07-15\"], \"y\": [2, 2], \"type\": \"scatter\", \"uid\": \"1aed9ea4-a296-11e8-845e-5c969d9742ff\"}, {\"marker\": {\"color\": \"white\"}, \"name\": \"\", \"x\": [\"2018-09-01\", \"2018-10-15\"], \"y\": [3, 3], \"type\": \"scatter\", \"uid\": \"1aeda1cc-a296-11e8-ab95-5c969d9742ff\"}, {\"marker\": {\"color\": \"white\"}, \"name\": \"\", \"x\": [\"2018-07-15\", \"2018-08-15\"], \"y\": [4, 4], \"type\": \"scatter\", \"uid\": \"1aeda4ba-a296-11e8-b3fe-5c969d9742ff\"}, {\"hoverinfo\": \"none\", \"marker\": {\"color\": \"rgb(0, 0, 0)\", \"size\": 1}, \"name\": \"Apps\", \"showlegend\": true, \"x\": [\"2018-07-15\", \"2018-07-15\"], \"y\": [0, 0], \"type\": \"scatter\", \"uid\": \"1aeda7a8-a296-11e8-8a40-5c969d9742ff\"}, {\"hoverinfo\": \"none\", \"marker\": {\"color\": \"rgb(255, 230, 41)\", \"size\": 1}, \"name\": \"Operations\", \"showlegend\": true, \"x\": [\"2018-07-15\", \"2018-07-15\"], \"y\": [1, 1], \"type\": \"scatter\", \"uid\": \"1aedaa8c-a296-11e8-b559-5c969d9742ff\"}, {\"hoverinfo\": \"none\", \"marker\": {\"color\": \"rgb(220, 0, 0)\", \"size\": 1}, \"name\": \"PreReqs\", \"showlegend\": true, \"x\": [\"2018-07-15\", \"2018-07-15\"], \"y\": [2, 2], \"type\": \"scatter\", \"uid\": \"1aedad74-a296-11e8-9b98-5c969d9742ff\"}, {\"hoverinfo\": \"none\", \"marker\": {\"color\": \"rgb(170, 14, 200)\", \"size\": 1}, \"name\": \"SharedSvcs\", \"showlegend\": true, \"x\": [\"2018-07-15\", \"2018-07-15\"], \"y\": [3, 3], \"type\": \"scatter\", \"uid\": \"1aedb04c-a296-11e8-88ac-5c969d9742ff\"}], {\"height\": 600, \"hovermode\": \"closest\", \"shapes\": [{\"fillcolor\": \"rgb(220, 0, 0)\", \"line\": {\"width\": 0}, \"opacity\": 1, \"type\": \"rect\", \"x0\": \"2018-01-01\", \"x1\": \"2018-03-11\", \"xref\": \"x\", \"y0\": -0.2, \"y1\": 0.2, \"yref\": \"y\"}, {\"fillcolor\": \"rgb(170, 14, 200)\", \"line\": {\"width\": 0}, \"opacity\": 1, \"type\": \"rect\", \"x0\": \"2018-06-01\", \"x1\": \"2018-06-30\", \"xref\": \"x\", \"y0\": 0.8, \"y1\": 1.2, \"yref\": \"y\"}, {\"fillcolor\": \"rgb(170, 14, 200)\", \"line\": {\"width\": 0}, \"opacity\": 1, \"type\": \"rect\", \"x0\": \"2018-06-15\", \"x1\": \"2018-07-15\", \"xref\": \"x\", \"y0\": 1.8, \"y1\": 2.2, \"yref\": \"y\"}, {\"fillcolor\": \"rgb(0, 0, 0)\", \"line\": {\"width\": 0}, \"opacity\": 1, \"type\": \"rect\", \"x0\": \"2018-09-01\", \"x1\": \"2018-10-15\", \"xref\": \"x\", \"y0\": 2.8, \"y1\": 3.2, \"yref\": \"y\"}, {\"fillcolor\": \"rgb(255, 230, 41)\", \"line\": {\"width\": 0}, \"opacity\": 1, \"type\": \"rect\", \"x0\": \"2018-07-15\", \"x1\": \"2018-08-15\", \"xref\": \"x\", \"y0\": 3.8, \"y1\": 4.2, \"yref\": \"y\"}], \"showlegend\": true, \"title\": \"Sample Gantt Chart\", \"width\": 900, \"xaxis\": {\"rangeselector\": {\"buttons\": [{\"count\": 7, \"label\": \"1w\", \"step\": \"day\", \"stepmode\": \"backward\"}, {\"count\": 1, \"label\": \"1m\", \"step\": \"month\", \"stepmode\": \"backward\"}, {\"count\": 6, \"label\": \"6m\", \"step\": \"month\", \"stepmode\": \"backward\"}, {\"count\": 1, \"label\": \"YTD\", \"step\": \"year\", \"stepmode\": \"todate\"}, {\"count\": 1, \"label\": \"1y\", \"step\": \"year\", \"stepmode\": \"backward\"}, {\"step\": \"all\"}]}, \"showgrid\": false, \"type\": \"date\", \"zeroline\": false}, \"yaxis\": {\"autorange\": false, \"range\": [-1, 6], \"showgrid\": false, \"ticktext\": [\"Proj A\", \"Proj B1\", \"Proj B2\", \"Proj C\", \"Proj C\"], \"tickvals\": [0, 1, 2, 3, 4], \"zeroline\": false}}, {\"showLink\": true, \"linkText\": \"Export to plot.ly\"})});</script>"
      ]
     },
     "metadata": {},
     "output_type": "display_data"
    },
    {
     "name": "stdout",
     "output_type": "stream",
     "text": [
      "Loading Project Catalog using Excel /devel/py35-work/data/scenario-inputs5.xlsx\n",
      "Loaded Project Catalog in 7.887939 seconds\n",
      "Column headings:\n",
      "Index(['xkey', 'ProjectAlias', 'SubProjSrt', 'ProjectBase', 'AppCode',\n",
      "       'SDLCPhase', 'ServiceRefs', 'PTsrt', 'ProjectType', 'ProjDescription',\n",
      "       'Key Resource', 'QtrStart', 'YrStart', 'QtrEnd', 'YrEnd',\n",
      "       'MaxEst Effort (mos): 283.75', 'QStart', 'QEnd', 'Complexity Rating',\n",
      "       'Depreciation Impact', 'Core Dependencies', 'ProjectLongKey',\n",
      "       'ConsolidatedApp', 'LGHT', 'Complete', 'In flight?', 'DeliveryTeam',\n",
      "       'Champion', 'Architect', 'Comments'],\n",
      "      dtype='object')\n",
      "Index(['*', '*', '*', '*', '*', '*', '*', '*', '*', '*',\n",
      "       ...\n",
      "       '*', '*', '*', '*', '*', '*', '*', '*', '*', '*'],\n",
      "      dtype='object', name='*', length=257)\n",
      "<class 'pandas.core.frame.DataFrame'>\n"
     ]
    },
    {
     "ename": "AttributeError",
     "evalue": "'dict' object has no attribute 'reverse'",
     "output_type": "error",
     "traceback": [
      "\u001b[0;31m---------------------------------------------------------------------------\u001b[0m",
      "\u001b[0;31mAttributeError\u001b[0m                            Traceback (most recent call last)",
      "\u001b[0;32m<ipython-input-8-492f5a792849>\u001b[0m in \u001b[0;36m<module>\u001b[0;34m()\u001b[0m\n\u001b[1;32m    116\u001b[0m fig_gc = ff.create_gantt(gchart_data, colors=colors2, index_col='Resource',  \n\u001b[1;32m    117\u001b[0m                          \u001b[0mbar_width\u001b[0m\u001b[0;34m=\u001b[0m\u001b[0;36m0.4\u001b[0m\u001b[0;34m,\u001b[0m\u001b[0mwidth\u001b[0m\u001b[0;34m=\u001b[0m\u001b[0mCHART_WIDTH\u001b[0m\u001b[0;34m,\u001b[0m \u001b[0mheight\u001b[0m\u001b[0;34m=\u001b[0m\u001b[0mCHART_HEIGHT\u001b[0m\u001b[0;34m,\u001b[0m\u001b[0mreverse_colors\u001b[0m\u001b[0;34m=\u001b[0m\u001b[0;32mTrue\u001b[0m\u001b[0;34m,\u001b[0m\u001b[0;34m\u001b[0m\u001b[0m\n\u001b[0;32m--> 118\u001b[0;31m                          show_colorbar=True,showgrid_x=True, showgrid_y=True,title=GC_TITLE,group_tasks=True)\n\u001b[0m\u001b[1;32m    119\u001b[0m fig_gc['layout'].update(autosize=False, \n\u001b[1;32m    120\u001b[0m                         \u001b[0mmargin\u001b[0m\u001b[0;34m=\u001b[0m\u001b[0mdict\u001b[0m\u001b[0;34m(\u001b[0m\u001b[0ml\u001b[0m\u001b[0;34m=\u001b[0m\u001b[0;36m120\u001b[0m\u001b[0;34m)\u001b[0m\u001b[0;34m,\u001b[0m\u001b[0;34m\u001b[0m\u001b[0m\n",
      "\u001b[0;32m/devel/py35-work/py36-B/lib/python3.6/site-packages/plotly/figure_factory/_gantt.py\u001b[0m in \u001b[0;36mcreate_gantt\u001b[0;34m(df, colors, index_col, show_colorbar, reverse_colors, title, bar_width, showgrid_x, showgrid_y, height, width, tasks, task_names, data, group_tasks)\u001b[0m\n\u001b[1;32m    748\u001b[0m \u001b[0;34m\u001b[0m\u001b[0m\n\u001b[1;32m    749\u001b[0m     \u001b[0;32mif\u001b[0m \u001b[0mreverse_colors\u001b[0m \u001b[0;32mis\u001b[0m \u001b[0;32mTrue\u001b[0m\u001b[0;34m:\u001b[0m\u001b[0;34m\u001b[0m\u001b[0m\n\u001b[0;32m--> 750\u001b[0;31m         \u001b[0mcolors\u001b[0m\u001b[0;34m.\u001b[0m\u001b[0mreverse\u001b[0m\u001b[0;34m(\u001b[0m\u001b[0;34m)\u001b[0m\u001b[0;34m\u001b[0m\u001b[0m\n\u001b[0m\u001b[1;32m    751\u001b[0m \u001b[0;34m\u001b[0m\u001b[0m\n\u001b[1;32m    752\u001b[0m     \u001b[0;32mif\u001b[0m \u001b[0;32mnot\u001b[0m \u001b[0mindex_col\u001b[0m\u001b[0;34m:\u001b[0m\u001b[0;34m\u001b[0m\u001b[0m\n",
      "\u001b[0;31mAttributeError\u001b[0m: 'dict' object has no attribute 'reverse'"
     ]
    }
   ],
   "source": [
    "# new test \n",
    "#  tutorial  https://plot.ly/python/ipython-notebook-tutorial/\n",
    "\n",
    "\n",
    "import platform\n",
    "import IPython\n",
    "import datetime\n",
    "import pandas as pd\n",
    "import numpy as np  \n",
    "import plotly.plotly as py\n",
    "import plotly.graph_objs as go\n",
    "import plotly.figure_factory as ff\n",
    "\n",
    "from plotly import __version__\n",
    "from plotly.offline import download_plotlyjs, init_notebook_mode, plot, iplot\n",
    "\n",
    "\n",
    "GC_TITLE=\"Project TimeLine 2018-2023 By Category\"\n",
    "CHART_HEIGHT=2000\n",
    "CHART_WIDTH=2750\n",
    "\n",
    "INPUT_MODELS=\"/devel/py35-work/data/scenario-inputs5.xlsx\"\n",
    "\n",
    "#init_notebook_mode(connected=True)\n",
    "#plot([go.Scatter(x=[1, 2, 3], y=[3, 1, 6])])\n",
    "\n",
    "# displays  in  notebook -  WORKED  \n",
    "init_notebook_mode(connected=True)\n",
    "\n",
    "\n",
    "# Exercise  Line Chart  Type\n",
    "iplot([{\"x\": [1, 2, 3], \"y\": [3, 1, 6]}])\n",
    "\n",
    "\n",
    "print(\"Loaded a few libraries ...\")\n",
    "print(\"python  version \" + platform.python_version())\n",
    "print(\"IPython version is {} -> okay\".format(IPython.version_info))\n",
    "print(\"Plotly  version: \" + __version__)\n",
    "print(\"Pandas  version: \" + pd.__version__)\n",
    "print(\"Numpy   version: \" + np.__version__)\n",
    "\n",
    "#\n",
    "#  Excercise  Table Chaart\n",
    "#df = pd.read_csv(\"/devel/py35-work/data/school_earnings.csv\")\n",
    "#table = ff.create_table(df)\n",
    "#iplot(table, filename='jupyter-table1')\n",
    "\n",
    "\n",
    "#\n",
    "#  Exercise  Gantt Chart  Type/ Create List of Dictionaries\n",
    "gc_data = [dict(Task=\"Proj A\", Start='2018-01-01', Finish='2018-03-11',  Resource='PreReqs'),\n",
    "           dict(Task=\"Proj B1\", Start='2018-06-01', Finish='2018-06-30', Resource='SharedSvcs'),\n",
    "           dict(Task=\"Proj B2\", Start='2018-06-15', Finish='2018-07-15', Resource='SharedSvcs'),\n",
    "           dict(Task=\"Proj C\", Start='2018-09-01', Finish='2018-10-15',  Resource='Apps'),\n",
    "           dict(Task=\"Proj C\", Start='2018-07-15', Finish='2018-08-15',  Resource='Operations')]  \n",
    "colors = dict(PreReqs    = 'rgb(220, 0, 0)',\n",
    "              SharedSvcs  = 'rgb(170, 14, 200)',\n",
    "              Apps       = 'rgb(0, 0, 0)',\n",
    "              Operations = (1, 0.9, 0.16))\n",
    "\n",
    "fig = ff.create_gantt(gc_data, colors=colors, index_col='Resource', show_colorbar=True,title=\"Sample Gantt Chart\")\n",
    "iplot(fig, filename='gantt-dictionary-colors')\n",
    "\n",
    "\n",
    "#print(\"\\n** See Chart At https://plot.ly/~mbisignani/0\\n\" )\n",
    "\n",
    "t1 = datetime.datetime.now()\n",
    "print(\"Loading Project Catalog using Excel \" + INPUT_MODELS)\n",
    "excel_file = INPUT_MODELS\n",
    "projc = pd.read_excel(excel_file, sheet_name=\"ProjectCatalog\", index_col=0,skiprows=0)\n",
    "t2 = datetime.datetime.now()\n",
    "print(\"Loaded Project Catalog in \" + str((t2-t1).total_seconds()) +  \" seconds\" ) \n",
    "\n",
    "\n",
    "print(\"Column headings:\")\n",
    "print(projc.columns)\n",
    "print(projc.index)\n",
    "\n",
    "gantt_df= projc[ ['xkey','ProjectBase','ProjectAlias','ProjectType','PTsrt','QStart','QEnd'] ]\n",
    "\n",
    "\n",
    "# Drop Undefined Projects /  \n",
    "df1= gantt_df[gantt_df['QStart'].notnull()]\n",
    "\n",
    "print(type(df1))\n",
    "\n",
    "\n",
    "df2 = df1.sort_values(by=['PTsrt', 'ProjectBase'], ascending=[False, True])\n",
    "\n",
    "# Build the new chart, \n",
    "gchart_data = []\n",
    "for index, proj_row in df2.iterrows():\n",
    " \n",
    "   #dict1 ={'Task': str(proj_row['xkey']) + \"::\" + str(proj_row['ProjectAlias']), \n",
    "   #        'Start':proj_row['QStart'], \n",
    "   #        'Finish':proj_row['QEnd'],  \n",
    "   #        'Resource':proj_row['ProjectType']}\n",
    "    \n",
    "   dict1 ={'Task': \"::\" + str(proj_row['ProjectBase']), \n",
    "           'Start':proj_row['QStart'], \n",
    "           'Finish':proj_row['QEnd'],  \n",
    "           'Resource':proj_row['ProjectType']}    \n",
    "    \n",
    "   #  add to list \n",
    "   gchart_data.append(dict1)       \n",
    "\n",
    "\n",
    "#https://www.rapidtables.com/web/color/cyan-color.html\n",
    "colors2 = dict(PreReqs      = 'rgb(255,165,0)',\n",
    "               SharedSvcs   = 'rgb(75,0,130)',\n",
    "               Apps         = 'rgb(32,178,170)',  \n",
    "               Operations   = 'rgb(0, 0, 255)')\n",
    "\n",
    "\n",
    "#create chart using newly created data list \n",
    "fig_gc = ff.create_gantt(gchart_data, colors=colors2, index_col='Resource',  \n",
    "                         bar_width=0.4,width=CHART_WIDTH, height=CHART_HEIGHT,reverse_colors=True,\n",
    "                         show_colorbar=True,showgrid_x=True, showgrid_y=True,title=GC_TITLE,group_tasks=True)\n",
    "fig_gc['layout'].update(autosize=False, \n",
    "                        margin=dict(l=120),\n",
    "                        titlefont=dict(size=20),\n",
    "                        plot_bgcolor='rgb(230,230,230)',\n",
    "                        hoverlabel=dict(bgcolor='rgb(100,100,100)'),\n",
    "                        xaxis=dict(title='xaxis title'))\n",
    "\n",
    "\n",
    "#                                   titlefont=dict(size=25,color='rgb(255,0,0)')),\n",
    "#                       \n",
    "#                                   titlefont=dict(size=25,color='rgb(255,0,0)')\n",
    "  \n",
    "#create chart using newly created data list \n",
    "# paper_bgcolor='rgb(255,250,205)',\n",
    "# group_tasks=True\n",
    "\n",
    "plot(fig_gc, filename='gantt-projects')\n",
    "\n",
    "\n",
    "#  Excercise  Table Chart\n",
    "#df = pd.read_csv(\"/devel/py35-work/data/school_earnings.csv\")\n",
    "#table1 = ff.create_table(df)\n",
    "#iplot(table1, filename='jupyter-table1')\n"
   ]
  },
  {
   "cell_type": "code",
   "execution_count": null,
   "metadata": {},
   "outputs": [],
   "source": []
  },
  {
   "cell_type": "code",
   "execution_count": null,
   "metadata": {},
   "outputs": [],
   "source": []
  }
 ],
 "metadata": {
  "kernelspec": {
   "display_name": "Python 3",
   "language": "python",
   "name": "python3"
  },
  "language_info": {
   "codemirror_mode": {
    "name": "ipython",
    "version": 3
   },
   "file_extension": ".py",
   "mimetype": "text/x-python",
   "name": "python",
   "nbconvert_exporter": "python",
   "pygments_lexer": "ipython3",
   "version": "3.6.5"
  }
 },
 "nbformat": 4,
 "nbformat_minor": 1
}
