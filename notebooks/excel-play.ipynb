{
 "cells": [
  {
   "cell_type": "code",
   "execution_count": 17,
   "metadata": {
    "collapsed": true
   },
   "outputs": [],
   "source": [
    "#  paly with excel libraries  , pandas and charts  plotly\n",
    "# python -m pip install xlrd\n",
    "# python -m pip install xlwt\n",
    "# python -m pip install XlsxWriter\n",
    "# python -m pip install OpenPyXL\n",
    "# python -m pip install plotly\n",
    "\n"
   ]
  },
  {
   "cell_type": "code",
   "execution_count": 2,
   "metadata": {},
   "outputs": [
    {
     "name": "stdout",
     "output_type": "stream",
     "text": [
      "back\n"
     ]
    }
   ],
   "source": [
    "print(\"back\")"
   ]
  },
  {
   "cell_type": "code",
   "execution_count": 18,
   "metadata": {},
   "outputs": [],
   "source": [
    "#see  https://www.dataquest.io/blog/excel-and-pandas/\n",
    "#matplotlib - data visualization\n",
    "#NumPy - numerical data functionality\n",
    "#OpenPyXL - read/write Excel 2010 xlsx/xlsm files\n",
    "#pandas - data import, clean-up, exploration, and analysis\n",
    "#xlrd - read Excel data\n",
    "#xlwt - write to Excel\n",
    "#XlsxWriter - write to Excel (xlsx) files\n",
    "\n",
    "\n",
    "# https://plot.ly/python/getting-started/\n",
    "\n",
    "\n",
    "\n",
    "\n"
   ]
  },
  {
   "cell_type": "code",
   "execution_count": 6,
   "metadata": {},
   "outputs": [],
   "source": [
    "#data for this  notebook found in /devel/py35-work/data/scenario-inputs.xlsx"
   ]
  },
  {
   "cell_type": "code",
   "execution_count": 31,
   "metadata": {},
   "outputs": [
    {
     "name": "stdout",
     "output_type": "stream",
     "text": [
      "hello again from Greenwich library 3\n"
     ]
    }
   ],
   "source": [
    "print(\"hello again from Greenwich library 3\")\n"
   ]
  },
  {
   "cell_type": "code",
   "execution_count": 44,
   "metadata": {},
   "outputs": [
    {
     "name": "stdout",
     "output_type": "stream",
     "text": [
      "loaded Libraries 2\nPlotly Version: 3.0.0\nPandas Version: 0.23.1\nNumpy Version: 1.14.3\n"
     ]
    },
    {
     "name": "stdout",
     "output_type": "stream",
     "text": [
      "loaded Project Catalog\n"
     ]
    },
    {
     "name": "stdout",
     "output_type": "stream",
     "text": [
      "High five! You successfully sent some data to your account on plotly. View your plot in your browser at https://plot.ly/~mbisignani/0 or inside your plot.ly account where it is named 'gantt-simple-gantt-chart'\n"
     ]
    },
    {
     "name": "stdout",
     "output_type": "stream",
     "text": [
      "See Chart At https://plot.ly/~mbisignani/0\n\n"
     ]
    }
   ],
   "source": [
    "import pandas as pd\n",
    "import numpy as np\n",
    "\n",
    "import plotly.plotly as py\n",
    "import plotly.figure_factory as ff\n",
    "\n",
    "print(\"loaded Libraries 2\")\n",
    "print(\"Plotly Version: \" + plotly.__version__)\n",
    "print(\"Pandas Version: \" + pd.__version__)\n",
    "print(\"Numpy Version: \" + np.__version__)\n",
    "\n",
    "\n",
    "#  path to file . \n",
    "excel_file = \"/devel/py35-work/data/scenario-inputs.xlsx\"\n",
    "movies_sheet1 = pd.read_excel(excel_file, sheet_name=\"ProjectCatalog\", index_col=0)\n",
    "movies_sheet1.head()\n",
    "print(\"loaded Project Catalog\")\n",
    "\n",
    "\n",
    "\n",
    "\n",
    "df = [dict(Task=\"Job A1\", Start='2009-01-01', Finish='2009-02-28'),\n",
    "      dict(Task=\"Job B1\", Start='2009-03-05', Finish='2009-04-15'),\n",
    "      dict(Task=\"Job C1\", Start='2009-02-20', Finish='2009-05-30')]\n",
    "\n",
    "fig = ff.create_gantt(df)\n",
    "py.iplot(fig, filename='gantt-simple-gantt-chart', world_readable=True,auto_open=True)\n",
    "\n",
    "\n",
    "print(\"See Chart At https://plot.ly/~mbisignani/0\\n\" )\n"
   ]
  },
  {
   "cell_type": "code",
   "execution_count": 39,
   "metadata": {},
   "outputs": [],
   "source": []
  },
  {
   "cell_type": "code",
   "execution_count": 39,
   "metadata": {},
   "outputs": [],
   "source": []
  },
  {
   "cell_type": "code",
   "execution_count": null,
   "metadata": {},
   "outputs": [],
   "source": []
  }
 ],
 "metadata": {
  "kernelspec": {
   "display_name": "Python 2",
   "language": "python",
   "name": "python2"
  },
  "language_info": {
   "codemirror_mode": {
    "name": "ipython",
    "version": 2
   },
   "file_extension": ".py",
   "mimetype": "text/x-python",
   "name": "python",
   "nbconvert_exporter": "python",
   "pygments_lexer": "ipython2",
   "version": "2.7.6"
  }
 },
 "nbformat": 4,
 "nbformat_minor": 0
}
