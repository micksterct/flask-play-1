{
 "cells": [
  {
   "cell_type": "code",
   "execution_count": 1,
   "metadata": {},
   "outputs": [],
   "source": [
    "# Play with excel libraries  , pandas & plotly charts\n",
    "# python -m pip install xlrd\n",
    "# python -m pip install xlwt\n",
    "# python -m pip install XlsxWriter\n",
    "# python -m pip install OpenPyXL\n",
    "# python -m pip install plotly\n",
    "\n"
   ]
  },
  {
   "cell_type": "code",
   "execution_count": 2,
   "metadata": {},
   "outputs": [
    {
     "name": "stdout",
     "output_type": "stream",
     "text": [
      "back\n"
     ]
    }
   ],
   "source": [
    "print(\"back\")"
   ]
  },
  {
   "cell_type": "code",
   "execution_count": 11,
   "metadata": {},
   "outputs": [],
   "source": [
    "#see  https://www.dataquest.io/blog/excel-and-pandas/\n",
    "#matplotlib - data visualization\n",
    "#NumPy - numerical data functionality\n",
    "#OpenPyXL - read/write Excel 2010 xlsx/xlsm files\n",
    "#pandas - data import, clean-up, exploration, and analysis\n",
    "#xlrd - read Excel data\n",
    "#xlwt - write to Excel\n",
    "#XlsxWriter - write to Excel (xlsx) files\n",
    "\n",
    "# https://plot.ly/python/getting-started/"
   ]
  },
  {
   "cell_type": "code",
   "execution_count": 5,
   "metadata": {},
   "outputs": [],
   "source": [
    "#data for this notebook found locally at /devel/py35-work/data/scenario-inputs2.xlsx"
   ]
  },
  {
   "cell_type": "code",
   "execution_count": 6,
   "metadata": {},
   "outputs": [
    {
     "data": {
      "text/html": [
       "<script>requirejs.config({paths: { 'plotly': ['https://cdn.plot.ly/plotly-latest.min']},});if(!window.Plotly) {{require(['plotly'],function(plotly) {window.Plotly=plotly;});}}</script>"
      ],
      "text/vnd.plotly.v1+html": [
       "<script>requirejs.config({paths: { 'plotly': ['https://cdn.plot.ly/plotly-latest.min']},});if(!window.Plotly) {{require(['plotly'],function(plotly) {window.Plotly=plotly;});}}</script>"
      ]
     },
     "metadata": {},
     "output_type": "display_data"
    },
    {
     "name": "stdout",
     "output_type": "stream",
     "text": [
      "loaded Libraries 3\n",
      "Plotly Version: 3.0.0\n",
      "Pandas Version: 0.23.1\n",
      "Numpy Version: 1.14.3\n",
      "Loading Project Catalog using Excel\n",
      "\n",
      "loaded Project Catalog\n",
      "\n",
      "\n",
      "High five! You successfully sent some data to your account on plotly. View your plot in your browser at https://plot.ly/~mbisignani/0 or inside your plot.ly account where it is named 'gantt-simple-gantt-chart'\n",
      "\n",
      "** See Chart At https://plot.ly/~mbisignani/0\n",
      "\n"
     ]
    }
   ],
   "source": [
    "import pandas as pd\n",
    "import numpy as np \n",
    " \n",
    " \n",
    "import plotly.plotly as py \n",
    "from plotly import __version__\n",
    "import plotly.figure_factory as ff\n",
    "\n",
    "from plotly.offline import download_plotlyjs, init_notebook_mode, plot, iplot\n",
    "\n",
    "init_notebook_mode(connected=True)\n",
    "\n",
    "# connect to notebook  \n",
    "\n",
    "\n",
    "print(\"loaded Libraries 3\")\n",
    "\n",
    "print(\"Plotly Version: \" + __version__)\n",
    "\n",
    "\n",
    "print(\"Pandas Version: \" + pd.__version__)\n",
    "print(\"Numpy Version: \" + np.__version__)\n",
    "\n",
    "print(\"Loading Project Catalog using Excel\\n\")\n",
    "#  path to file . \n",
    "excel_file = \"/devel/py35-work/data/scenario-inputs2.xlsx\"\n",
    "movies_sheet1 = pd.read_excel(excel_file, sheet_name=\"ProjectCatalog\", index_col=0)\n",
    "movies_sheet1.head()\n",
    "print(\"loaded Project Catalog\\n\\n\")\n",
    "\n",
    "\n",
    "\n",
    "\n",
    "df = [dict(Task=\"Job A1\", Start='2009-01-01', Finish='2009-02-28'),\n",
    "      dict(Task=\"Job B1\", Start='2009-03-05', Finish='2009-04-15'),\n",
    "      dict(Task=\"Job C1\", Start='2009-02-20', Finish='2009-05-30')]\n",
    "\n",
    "fig = ff.create_gantt(df)\n",
    "\n",
    "#auto_open=True)\n",
    "\n",
    "py.iplot(fig, filename='gantt-simple-gantt-chart', world_readable=True)\n",
    "\n",
    "\n",
    "print(\"\\n** See Chart At https://plot.ly/~mbisignani/0\\n\" )\n",
    "\n",
    "\n",
    "\n"
   ]
  },
  {
   "cell_type": "code",
   "execution_count": 13,
   "metadata": {},
   "outputs": [
    {
     "name": "stdout",
     "output_type": "stream",
     "text": [
      "hello again from Greenwich library 3\n"
     ]
    }
   ],
   "source": [
    "print(\"hello again from Greenwich library 3\")"
   ]
  },
  {
   "cell_type": "code",
   "execution_count": 4,
   "metadata": {},
   "outputs": [
    {
     "data": {
      "text/plain": [
       "'3.0.0'"
      ]
     },
     "execution_count": 4,
     "metadata": {},
     "output_type": "execute_result"
    }
   ],
   "source": [
    "import plotly\n",
    "plotly.__version__"
   ]
  },
  {
   "cell_type": "code",
   "execution_count": 9,
   "metadata": {},
   "outputs": [
    {
     "data": {
      "text/html": [
       "<script>requirejs.config({paths: { 'plotly': ['https://cdn.plot.ly/plotly-latest.min']},});if(!window.Plotly) {{require(['plotly'],function(plotly) {window.Plotly=plotly;});}}</script>"
      ],
      "text/vnd.plotly.v1+html": [
       "<script>requirejs.config({paths: { 'plotly': ['https://cdn.plot.ly/plotly-latest.min']},});if(!window.Plotly) {{require(['plotly'],function(plotly) {window.Plotly=plotly;});}}</script>"
      ]
     },
     "metadata": {},
     "output_type": "display_data"
    },
    {
     "name": "stdout",
     "output_type": "stream",
     "text": [
      "3.0.0\n"
     ]
    },
    {
     "data": {
      "text/html": [
       "<script>requirejs.config({paths: { 'plotly': ['https://cdn.plot.ly/plotly-latest.min']},});if(!window.Plotly) {{require(['plotly'],function(plotly) {window.Plotly=plotly;});}}</script>"
      ],
      "text/vnd.plotly.v1+html": [
       "<script>requirejs.config({paths: { 'plotly': ['https://cdn.plot.ly/plotly-latest.min']},});if(!window.Plotly) {{require(['plotly'],function(plotly) {window.Plotly=plotly;});}}</script>"
      ]
     },
     "metadata": {},
     "output_type": "display_data"
    },
    {
     "data": {
      "application/vnd.plotly.v1+json": {
       "data": [
        {
         "type": "scatter",
         "uid": "d5558480-9e6a-11e8-b162-5c969d9742ff",
         "x": [
          1,
          2,
          3
         ],
         "y": [
          3,
          1,
          6
         ]
        }
       ],
       "layout": {}
      },
      "text/html": [
       "<div id=\"bc10e175-96da-476a-b575-208ea2b88815\" style=\"height: 525px; width: 100%;\" class=\"plotly-graph-div\"></div><script type=\"text/javascript\">require([\"plotly\"], function(Plotly) { window.PLOTLYENV=window.PLOTLYENV || {};window.PLOTLYENV.BASE_URL=\"https://plot.ly\";Plotly.newPlot(\"bc10e175-96da-476a-b575-208ea2b88815\", [{\"x\": [1, 2, 3], \"y\": [3, 1, 6], \"type\": \"scatter\", \"uid\": \"d58e95fe-9e6a-11e8-8b86-5c969d9742ff\"}], {}, {\"showLink\": true, \"linkText\": \"Export to plot.ly\"})});</script>"
      ],
      "text/vnd.plotly.v1+html": [
       "<div id=\"bc10e175-96da-476a-b575-208ea2b88815\" style=\"height: 525px; width: 100%;\" class=\"plotly-graph-div\"></div><script type=\"text/javascript\">require([\"plotly\"], function(Plotly) { window.PLOTLYENV=window.PLOTLYENV || {};window.PLOTLYENV.BASE_URL=\"https://plot.ly\";Plotly.newPlot(\"bc10e175-96da-476a-b575-208ea2b88815\", [{\"x\": [1, 2, 3], \"y\": [3, 1, 6], \"type\": \"scatter\", \"uid\": \"d58e95fe-9e6a-11e8-8b86-5c969d9742ff\"}], {}, {\"showLink\": true, \"linkText\": \"Export to plot.ly\"})});</script>"
      ]
     },
     "metadata": {},
     "output_type": "display_data"
    }
   ],
   "source": [
    "from plotly import __version__\n",
    "import plotly.figure_factory as ff\n",
    "from plotly.offline import download_plotlyjs, init_notebook_mode, plot, iplot\n",
    "\n",
    "init_notebook_mode(connected=True)\n",
    "print(__version__) \n",
    "\n",
    "import plotly.graph_objs as go\n",
    "\n",
    "#plot([go.Scatter(x=[1, 2, 3], y=[3, 1, 6])])\n",
    "\n",
    "# displays  in  notebook -  WORKED  \n",
    "init_notebook_mode(connected=True)\n",
    "\n",
    "iplot([{\"x\": [1, 2, 3], \"y\": [3, 1, 6]}])"
   ]
  },
  {
   "cell_type": "code",
   "execution_count": 15,
   "metadata": {},
   "outputs": [
    {
     "data": {
      "text/html": [
       "<script>requirejs.config({paths: { 'plotly': ['https://cdn.plot.ly/plotly-latest.min']},});if(!window.Plotly) {{require(['plotly'],function(plotly) {window.Plotly=plotly;});}}</script>"
      ],
      "text/vnd.plotly.v1+html": [
       "<script>requirejs.config({paths: { 'plotly': ['https://cdn.plot.ly/plotly-latest.min']},});if(!window.Plotly) {{require(['plotly'],function(plotly) {window.Plotly=plotly;});}}</script>"
      ]
     },
     "metadata": {},
     "output_type": "display_data"
    },
    {
     "data": {
      "application/vnd.plotly.v1+json": {
       "data": [
        {
         "type": "scatter",
         "uid": "3d0e460c-9e6b-11e8-aa37-5c969d9742ff",
         "x": [
          1,
          2,
          3
         ],
         "y": [
          3,
          1,
          6
         ]
        }
       ],
       "layout": {}
      },
      "text/html": [
       "<div id=\"7fb07594-2add-4a8d-b1de-a3d39a0b5ae7\" style=\"height: 525px; width: 100%;\" class=\"plotly-graph-div\"></div><script type=\"text/javascript\">require([\"plotly\"], function(Plotly) { window.PLOTLYENV=window.PLOTLYENV || {};window.PLOTLYENV.BASE_URL=\"https://plot.ly\";Plotly.newPlot(\"7fb07594-2add-4a8d-b1de-a3d39a0b5ae7\", [{\"x\": [1, 2, 3], \"y\": [3, 1, 6], \"type\": \"scatter\", \"uid\": \"3d1e6b4a-9e6b-11e8-ade6-5c969d9742ff\"}], {}, {\"showLink\": true, \"linkText\": \"Export to plot.ly\"})});</script>"
      ],
      "text/vnd.plotly.v1+html": [
       "<div id=\"7fb07594-2add-4a8d-b1de-a3d39a0b5ae7\" style=\"height: 525px; width: 100%;\" class=\"plotly-graph-div\"></div><script type=\"text/javascript\">require([\"plotly\"], function(Plotly) { window.PLOTLYENV=window.PLOTLYENV || {};window.PLOTLYENV.BASE_URL=\"https://plot.ly\";Plotly.newPlot(\"7fb07594-2add-4a8d-b1de-a3d39a0b5ae7\", [{\"x\": [1, 2, 3], \"y\": [3, 1, 6], \"type\": \"scatter\", \"uid\": \"3d1e6b4a-9e6b-11e8-ade6-5c969d9742ff\"}], {}, {\"showLink\": true, \"linkText\": \"Export to plot.ly\"})});</script>"
      ]
     },
     "metadata": {},
     "output_type": "display_data"
    },
    {
     "name": "stdout",
     "output_type": "stream",
     "text": [
      "Loaded a few libraries ...\n",
      "python  version 3.6.5\n",
      "IPython version is (6, 4, 0, '') -> okay\n",
      "Plotly  version: 3.0.0\n",
      "Pandas  version: 0.23.1\n",
      "Numpy   version: 1.14.3\n"
     ]
    },
    {
     "data": {
      "application/vnd.plotly.v1+json": {
       "data": [
        {
         "marker": {
          "color": "white"
         },
         "name": "",
         "type": "scatter",
         "uid": "3d319bfa-9e6b-11e8-8376-5c969d9742ff",
         "x": [
          "2009-01-01",
          "2009-02-28"
         ],
         "y": [
          0,
          0
         ]
        },
        {
         "marker": {
          "color": "white"
         },
         "name": "",
         "type": "scatter",
         "uid": "3d319fee-9e6b-11e8-8c77-5c969d9742ff",
         "x": [
          "2009-03-05",
          "2009-04-15"
         ],
         "y": [
          1,
          1
         ]
        },
        {
         "marker": {
          "color": "white"
         },
         "name": "",
         "type": "scatter",
         "uid": "3d31a32c-9e6b-11e8-a545-5c969d9742ff",
         "x": [
          "2009-02-20",
          "2009-05-30"
         ],
         "y": [
          2,
          2
         ]
        }
       ],
       "layout": {
        "height": 600,
        "hovermode": "closest",
        "shapes": [
         {
          "fillcolor": "rgb(31, 119, 180)",
          "line": {
           "width": 0
          },
          "opacity": 1,
          "type": "rect",
          "x0": "2009-01-01",
          "x1": "2009-02-28",
          "xref": "x",
          "y0": -0.2,
          "y1": 0.2,
          "yref": "y"
         },
         {
          "fillcolor": "rgb(255, 127, 14)",
          "line": {
           "width": 0
          },
          "opacity": 1,
          "type": "rect",
          "x0": "2009-03-05",
          "x1": "2009-04-15",
          "xref": "x",
          "y0": 0.8,
          "y1": 1.2,
          "yref": "y"
         },
         {
          "fillcolor": "rgb(44, 160, 44)",
          "line": {
           "width": 0
          },
          "opacity": 1,
          "type": "rect",
          "x0": "2009-02-20",
          "x1": "2009-05-30",
          "xref": "x",
          "y0": 1.8,
          "y1": 2.2,
          "yref": "y"
         }
        ],
        "showlegend": false,
        "title": "Gantt Chart",
        "width": 900,
        "xaxis": {
         "rangeselector": {
          "buttons": [
           {
            "count": 7,
            "label": "1w",
            "step": "day",
            "stepmode": "backward"
           },
           {
            "count": 1,
            "label": "1m",
            "step": "month",
            "stepmode": "backward"
           },
           {
            "count": 6,
            "label": "6m",
            "step": "month",
            "stepmode": "backward"
           },
           {
            "count": 1,
            "label": "YTD",
            "step": "year",
            "stepmode": "todate"
           },
           {
            "count": 1,
            "label": "1y",
            "step": "year",
            "stepmode": "backward"
           },
           {
            "step": "all"
           }
          ]
         },
         "showgrid": false,
         "type": "date",
         "zeroline": false
        },
        "yaxis": {
         "autorange": false,
         "range": [
          -1,
          4
         ],
         "showgrid": false,
         "ticktext": [
          "Job A1",
          "Job B1",
          "Job C1"
         ],
         "tickvals": [
          0,
          1,
          2
         ],
         "zeroline": false
        }
       }
      },
      "text/html": [
       "<div id=\"ad19064b-bbb6-4b71-b706-9f8d4026e7e8\" style=\"height: 600px; width: 900px;\" class=\"plotly-graph-div\"></div><script type=\"text/javascript\">require([\"plotly\"], function(Plotly) { window.PLOTLYENV=window.PLOTLYENV || {};window.PLOTLYENV.BASE_URL=\"https://plot.ly\";\n",
       "        Plotly.plot(\n",
       "            'ad19064b-bbb6-4b71-b706-9f8d4026e7e8',\n",
       "            [{\"marker\": {\"color\": \"white\"}, \"name\": \"\", \"x\": [\"2009-01-01\", \"2009-02-28\"], \"y\": [0, 0], \"type\": \"scatter\", \"uid\": \"3d319bfa-9e6b-11e8-8376-5c969d9742ff\"}, {\"marker\": {\"color\": \"white\"}, \"name\": \"\", \"x\": [\"2009-03-05\", \"2009-04-15\"], \"y\": [1, 1], \"type\": \"scatter\", \"uid\": \"3d319fee-9e6b-11e8-8c77-5c969d9742ff\"}, {\"marker\": {\"color\": \"white\"}, \"name\": \"\", \"x\": [\"2009-02-20\", \"2009-05-30\"], \"y\": [2, 2], \"type\": \"scatter\", \"uid\": \"3d31a32c-9e6b-11e8-a545-5c969d9742ff\"}],\n",
       "            {\"height\": 600, \"hovermode\": \"closest\", \"shapes\": [{\"fillcolor\": \"rgb(31, 119, 180)\", \"line\": {\"width\": 0}, \"opacity\": 1, \"type\": \"rect\", \"x0\": \"2009-01-01\", \"x1\": \"2009-02-28\", \"xref\": \"x\", \"y0\": -0.2, \"y1\": 0.2, \"yref\": \"y\"}, {\"fillcolor\": \"rgb(255, 127, 14)\", \"line\": {\"width\": 0}, \"opacity\": 1, \"type\": \"rect\", \"x0\": \"2009-03-05\", \"x1\": \"2009-04-15\", \"xref\": \"x\", \"y0\": 0.8, \"y1\": 1.2, \"yref\": \"y\"}, {\"fillcolor\": \"rgb(44, 160, 44)\", \"line\": {\"width\": 0}, \"opacity\": 1, \"type\": \"rect\", \"x0\": \"2009-02-20\", \"x1\": \"2009-05-30\", \"xref\": \"x\", \"y0\": 1.8, \"y1\": 2.2, \"yref\": \"y\"}], \"showlegend\": false, \"title\": \"Gantt Chart\", \"width\": 900, \"xaxis\": {\"rangeselector\": {\"buttons\": [{\"count\": 7, \"label\": \"1w\", \"step\": \"day\", \"stepmode\": \"backward\"}, {\"count\": 1, \"label\": \"1m\", \"step\": \"month\", \"stepmode\": \"backward\"}, {\"count\": 6, \"label\": \"6m\", \"step\": \"month\", \"stepmode\": \"backward\"}, {\"count\": 1, \"label\": \"YTD\", \"step\": \"year\", \"stepmode\": \"todate\"}, {\"count\": 1, \"label\": \"1y\", \"step\": \"year\", \"stepmode\": \"backward\"}, {\"step\": \"all\"}]}, \"showgrid\": false, \"type\": \"date\", \"zeroline\": false}, \"yaxis\": {\"autorange\": false, \"range\": [-1, 4], \"showgrid\": false, \"ticktext\": [\"Job A1\", \"Job B1\", \"Job C1\"], \"tickvals\": [0, 1, 2], \"zeroline\": false}},\n",
       "            {\"showLink\": true, \"linkText\": \"Export to plot.ly\"}\n",
       "        ).then(function () {return Plotly.addFrames('ad19064b-bbb6-4b71-b706-9f8d4026e7e8',{});}).then(function(){Plotly.animate('ad19064b-bbb6-4b71-b706-9f8d4026e7e8');})\n",
       "        });</script>"
      ],
      "text/vnd.plotly.v1+html": [
       "<div id=\"ad19064b-bbb6-4b71-b706-9f8d4026e7e8\" style=\"height: 600px; width: 900px;\" class=\"plotly-graph-div\"></div><script type=\"text/javascript\">require([\"plotly\"], function(Plotly) { window.PLOTLYENV=window.PLOTLYENV || {};window.PLOTLYENV.BASE_URL=\"https://plot.ly\";\n",
       "        Plotly.plot(\n",
       "            'ad19064b-bbb6-4b71-b706-9f8d4026e7e8',\n",
       "            [{\"marker\": {\"color\": \"white\"}, \"name\": \"\", \"x\": [\"2009-01-01\", \"2009-02-28\"], \"y\": [0, 0], \"type\": \"scatter\", \"uid\": \"3d319bfa-9e6b-11e8-8376-5c969d9742ff\"}, {\"marker\": {\"color\": \"white\"}, \"name\": \"\", \"x\": [\"2009-03-05\", \"2009-04-15\"], \"y\": [1, 1], \"type\": \"scatter\", \"uid\": \"3d319fee-9e6b-11e8-8c77-5c969d9742ff\"}, {\"marker\": {\"color\": \"white\"}, \"name\": \"\", \"x\": [\"2009-02-20\", \"2009-05-30\"], \"y\": [2, 2], \"type\": \"scatter\", \"uid\": \"3d31a32c-9e6b-11e8-a545-5c969d9742ff\"}],\n",
       "            {\"height\": 600, \"hovermode\": \"closest\", \"shapes\": [{\"fillcolor\": \"rgb(31, 119, 180)\", \"line\": {\"width\": 0}, \"opacity\": 1, \"type\": \"rect\", \"x0\": \"2009-01-01\", \"x1\": \"2009-02-28\", \"xref\": \"x\", \"y0\": -0.2, \"y1\": 0.2, \"yref\": \"y\"}, {\"fillcolor\": \"rgb(255, 127, 14)\", \"line\": {\"width\": 0}, \"opacity\": 1, \"type\": \"rect\", \"x0\": \"2009-03-05\", \"x1\": \"2009-04-15\", \"xref\": \"x\", \"y0\": 0.8, \"y1\": 1.2, \"yref\": \"y\"}, {\"fillcolor\": \"rgb(44, 160, 44)\", \"line\": {\"width\": 0}, \"opacity\": 1, \"type\": \"rect\", \"x0\": \"2009-02-20\", \"x1\": \"2009-05-30\", \"xref\": \"x\", \"y0\": 1.8, \"y1\": 2.2, \"yref\": \"y\"}], \"showlegend\": false, \"title\": \"Gantt Chart\", \"width\": 900, \"xaxis\": {\"rangeselector\": {\"buttons\": [{\"count\": 7, \"label\": \"1w\", \"step\": \"day\", \"stepmode\": \"backward\"}, {\"count\": 1, \"label\": \"1m\", \"step\": \"month\", \"stepmode\": \"backward\"}, {\"count\": 6, \"label\": \"6m\", \"step\": \"month\", \"stepmode\": \"backward\"}, {\"count\": 1, \"label\": \"YTD\", \"step\": \"year\", \"stepmode\": \"todate\"}, {\"count\": 1, \"label\": \"1y\", \"step\": \"year\", \"stepmode\": \"backward\"}, {\"step\": \"all\"}]}, \"showgrid\": false, \"type\": \"date\", \"zeroline\": false}, \"yaxis\": {\"autorange\": false, \"range\": [-1, 4], \"showgrid\": false, \"ticktext\": [\"Job A1\", \"Job B1\", \"Job C1\"], \"tickvals\": [0, 1, 2], \"zeroline\": false}},\n",
       "            {\"showLink\": true, \"linkText\": \"Export to plot.ly\"}\n",
       "        ).then(function () {return Plotly.addFrames('ad19064b-bbb6-4b71-b706-9f8d4026e7e8',{});}).then(function(){Plotly.animate('ad19064b-bbb6-4b71-b706-9f8d4026e7e8');})\n",
       "        });</script>"
      ]
     },
     "metadata": {},
     "output_type": "display_data"
    },
    {
     "name": "stdout",
     "output_type": "stream",
     "text": [
      "Loading Project Catalog using Excel\n",
      "Loaded Project Catalog in 7.875799 seconds\n"
     ]
    }
   ],
   "source": [
    "# new test \n",
    "#  tutorial  https://plot.ly/python/ipython-notebook-tutorial/\n",
    "\n",
    "import platform\n",
    "import IPython\n",
    "import datetime\n",
    "import pandas as pd\n",
    "import numpy as np  \n",
    "import plotly.plotly as py\n",
    "import plotly.graph_objs as go\n",
    "import plotly.figure_factory as ff\n",
    "\n",
    "from plotly import __version__\n",
    "from plotly.offline import download_plotlyjs, init_notebook_mode, plot, iplot\n",
    "\n",
    "#init_notebook_mode(connected=True)\n",
    "#plot([go.Scatter(x=[1, 2, 3], y=[3, 1, 6])])\n",
    "\n",
    "# displays  in  notebook -  WORKED  \n",
    "init_notebook_mode(connected=True)\n",
    "\n",
    "\n",
    "# Exercise  Line Chart  Type\n",
    "iplot([{\"x\": [1, 2, 3], \"y\": [3, 1, 6]}])\n",
    "\n",
    "\n",
    "print(\"Loaded a few libraries ...\")\n",
    "print(\"python  version \" + platform.python_version())\n",
    "print(\"IPython version is {} -> okay\".format(IPython.version_info))\n",
    "print(\"Plotly  version: \" + __version__)\n",
    "print(\"Pandas  version: \" + pd.__version__)\n",
    "print(\"Numpy   version: \" + np.__version__)\n",
    "\n",
    "#\n",
    "#  Excercise  Table Chaart\n",
    "#df = pd.read_csv(\"/devel/py35-work/data/school_earnings.csv\")\n",
    "#table = ff.create_table(df)\n",
    "#iplot(table, filename='jupyter-table1')\n",
    "\n",
    "\n",
    "#\n",
    "#  Exercise  Gantt Chart  Type\n",
    "df = [dict(Task=\"Job A1\", Start='2009-01-01', Finish='2009-02-28'),\n",
    "      dict(Task=\"Job B1\", Start='2009-03-05', Finish='2009-04-15'),\n",
    "      dict(Task=\"Job C1\", Start='2009-02-20', Finish='2009-05-30')]\n",
    "\n",
    "\n",
    "fig = ff.create_gantt(df)\n",
    "iplot(fig, filename='gantt-simple-gantt-chart')\n",
    "#print(\"\\n** See Chart At https://plot.ly/~mbisignani/0\\n\" )\n",
    "\n",
    "t1 = datetime.datetime.now()\n",
    "print(\"Loading Project Catalog using Excel\")\n",
    "#  path to file . \n",
    "excel_file = \"/devel/py35-work/data/scenario-inputs2.xlsx\"\n",
    "movies_sheet1 = pd.read_excel(excel_file, sheet_name=\"ProjectCatalog\", index_col=0)\n",
    "movies_sheet1.head()\n",
    "t2 = datetime.datetime.now()\n",
    "print(\"Loaded Project Catalog in \" + str((t2-t1).total_seconds()) +  \" seconds\" ) \n",
    "\n",
    "\n",
    "\n",
    "\n",
    "#  Excercise  Table Chart\n",
    "#df = pd.read_csv(\"/devel/py35-work/data/school_earnings.csv\")\n",
    "#table1 = ff.create_table(df)\n",
    "#iplot(table1, filename='jupyter-table1')\n"
   ]
  },
  {
   "cell_type": "code",
   "execution_count": null,
   "metadata": {},
   "outputs": [],
   "source": [
    "\n",
    "\n"
   ]
  }
 ],
 "metadata": {
  "kernelspec": {
   "display_name": "Python 3",
   "language": "python",
   "name": "python3"
  },
  "language_info": {
   "codemirror_mode": {
    "name": "ipython",
    "version": 3
   },
   "file_extension": ".py",
   "mimetype": "text/x-python",
   "name": "python",
   "nbconvert_exporter": "python",
   "pygments_lexer": "ipython3",
   "version": "3.6.5"
  }
 },
 "nbformat": 4,
 "nbformat_minor": 1
}
